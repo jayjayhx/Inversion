{
  "nbformat": 4,
  "nbformat_minor": 0,
  "metadata": {
    "colab": {
      "name": "Fast-Inversion-Forward-Calculation.ipynb",
      "private_outputs": true,
      "provenance": [],
      "collapsed_sections": [],
      "authorship_tag": "ABX9TyPCE64cJ1GIei45Wlfsv0Uh",
      "include_colab_link": true
    },
    "kernelspec": {
      "name": "python3",
      "display_name": "Python 3"
    },
    "language_info": {
      "name": "python"
    }
  },
  "cells": [
    {
      "cell_type": "markdown",
      "metadata": {
        "id": "view-in-github",
        "colab_type": "text"
      },
      "source": [
        "<a href=\"https://colab.research.google.com/github/tranquockinh/Fast-Inversion/blob/main/Fast_Inversion_Forward_Calculation.ipynb\" target=\"_parent\"><img src=\"https://colab.research.google.com/assets/colab-badge.svg\" alt=\"Open In Colab\"/></a>"
      ]
    },
    {
      "cell_type": "code",
      "metadata": {
        "id": "KJio732u2kg4"
      },
      "source": [
        "# Earth proflie\n",
        "import numpy as np\n",
        "import sympy as sp\n",
        "import matplotlib.pyplot as plt\n",
        "LayerData = np.array([[150,0],\n",
        "                      [100,2],\n",
        "                      [250,5],\n",
        "                      [400,10],\n",
        "                      [400,np.inf]])\n",
        "z = LayerData[:,1]\n",
        "num_layer = len(z)-1\n",
        "Vs = LayerData[:,0]\n",
        "Layer_Vs = Vs[0:-1]\n",
        "fig,ax = plt.subplots(1,2,figsize=(10,5),dpi=100)\n",
        "#fig,ax = plt.subplots(figsize=(4,6),dpi=100)\n",
        "ax[0].step(LayerData[:,0],LayerData[:,1])\n",
        "ax[0].invert_yaxis()\n",
        "xlimit = [0,LayerData[-1,0]+50]\n",
        "#plt.xlim(xlimit[0],xlimit[1])\n",
        "for i in range(len(LayerData[:,0])-1):\n",
        "    ax[0].hlines(y=LayerData[i,1],xmin=xlimit[0],xmax=xlimit[1],linestyle='--',linewidth=0.5)\n",
        "ax[0].set_xlabel('Shear wave velocity, Vs [m/s]')\n",
        "ax[0].set_ylabel('Depth, z [m]')\n",
        "ax[0].xaxis.set_label_position('top')\n",
        "ax[0].xaxis.tick_top()\n",
        "mid_layer = LayerData[:-1,1]+0.5*(LayerData[1:,1]-LayerData[:-1,1])\n",
        "print(mid_layer)\n",
        "label = LayerData[:-1,0]\n",
        "for i in range(num_layer):\n",
        "  ax[0].annotate(label[i], (label[i],mid_layer[i]), textcoords='offset points', xytext=(10,0))\n",
        "halfspace_Vs = ('Halfspace Vs = {}').format(LayerData[-1,0])\n",
        "ax[0].annotate(halfspace_Vs,(0,LayerData[-2,1]),textcoords='offset points', xytext=(10,-12))\n",
        "\n",
        "# Wavelength data\n",
        "Lambda = np.zeros((19))\n",
        "DeltaLambda = 1\n",
        "for i in range(len(Lambda)):\n",
        "    Lambda[0] = 2 # m\n",
        "    if i > 0:\n",
        "        Lambda[i] = Lambda[i-1] + DeltaLambda\n",
        "  # Plot particle motion curve\n",
        "def Partical_displacement(WL):\n",
        "    SF=1\n",
        "    cv = np.array([0.2507, -0.4341, -0.8474*2*np.pi, -0.3933*2*np.pi])\n",
        "    cv1 = cv[0] \n",
        "    cv2 = cv[1] \n",
        "    cv3 = cv[2] \n",
        "    cv4 = cv[3]\n",
        "    # Normalization\n",
        "    zn = z/WL\n",
        "    # compute amplitude of particle displacements\n",
        "    pmv = (cv1*np.exp(cv3*zn) + cv2*np.exp(cv4*zn))*SF\n",
        "    pmv_norm = pmv/pmv[0]\n",
        "    # plotting\n",
        "    ax[1].plot(pmv_norm,zn,'-or', markerfacecolor='None')\n",
        "    ax[1].xaxis.tick_top()\n",
        "    ax[1].xaxis.set_label_position('top')\n",
        "    ax[1].set_xlabel('Vertcal displacement amplitude [mm]')\n",
        "    ax[1].set_ylabel('Normalized depth, zn [m]')\n",
        "    ax[1].vlines(x=0,ymin=zn[0],ymax=zn[-1],linestyles='--',linewidth=1)\n",
        "    ax[1].legend(['PR=0.5'],loc='lower right')\n",
        "    ax[1].invert_yaxis()\n",
        "    return pmv\n",
        "pmv = Partical_displacement(Lambda[3])"
      ],
      "execution_count": null,
      "outputs": []
    },
    {
      "cell_type": "code",
      "metadata": {
        "id": "dVM8BYIr3_1B"
      },
      "source": [
        "def Compute_Weights(WL):\n",
        "    Ai = np.zeros((num_layer,1),dtype='object')\n",
        "    wp = np.zeros((num_layer,1),dtype='float')\n",
        "    SF = 1\n",
        "    low_bound = z[:-1]\n",
        "    up_bound = z[1:]\n",
        "    h = sp.symbols('h')\n",
        "    cv = np.array([0.2507, -0.4341, -0.8474*2*np.pi, -0.3933*2*np.pi])\n",
        "    cv1 = cv[0] \n",
        "    cv2 = cv[1] \n",
        "    cv3 = cv[2] \n",
        "    cv4 = cv[3]\n",
        "    pmv_norm = (cv1*sp.exp(cv3/WL*h) + cv2*sp.exp(cv4/WL*h))*SF \n",
        "    for j in range(num_layer):\n",
        "        Ai[j,0] = sp.integrate(pmv_norm,(h,low_bound[j],up_bound[j]))\n",
        "        A = sp.integrate(pmv_norm,(h,low_bound[0],up_bound[-1])) \n",
        "        wp[j,0] = Ai[j] / A\n",
        "    return wp\n",
        "wp = np.zeros((len(Lambda)),dtype='object')\n",
        "for i in range(len(wp)):\n",
        "    wp[i] = np.zeros((num_layer))\n",
        "    wp[i] = Compute_Weights(Lambda[i])\n",
        "    print(('WAVELENGTH {} PASSED').format(i+1))\n",
        "    ERROR = 1E-6\n",
        "    if (np.sum(wp[i]) - 1 > ERROR):\n",
        "        print('NOT PASSED')\n",
        "    else: continue"
      ],
      "execution_count": null,
      "outputs": []
    },
    {
      "cell_type": "code",
      "metadata": {
        "id": "OHy55VNS4SaX"
      },
      "source": [
        "# Distribution of weighting\n",
        "labels = ['Layer 1','Layer 2','Layer 3','Layer 4']\n",
        "fig,ax=plt.subplots(dpi=100)\n",
        "plt.plot(wp[1],labels)\n",
        "plt.xlabel('Values of weights, Wp')\n",
        "plt.ylabel('Layers')\n",
        "plt.title('Wp distribution')\n",
        "ax.invert_yaxis()\n",
        "ax.xaxis.set_label_position('top')\n",
        "ax.xaxis.tick_top()"
      ],
      "execution_count": null,
      "outputs": []
    },
    {
      "cell_type": "code",
      "metadata": {
        "id": "jsgLVqVf4V2M"
      },
      "source": [
        "# Compute phase velocity\n",
        "def Phase_velocity(Layer_Vs,wp):\n",
        "    Vph = np.dot(Layer_Vs,wp)\n",
        "    return Vph\n",
        "Vph = np.zeros((len(Lambda)))\n",
        "for i in range(len(Lambda)):\n",
        "    Vph[i] = Phase_velocity(Layer_Vs,wp[i])\n",
        "print(Vph)\n",
        "fig,ax=plt.subplots(figsize=(4,6),dpi=100)\n",
        "ax.plot(Vph,Lambda,'-o',markerfacecolor='None')\n",
        "ax.invert_yaxis()\n",
        "ax.set_xlabel('Phase velocity, Vph [m/s]')\n",
        "ax.xaxis.set_label_position('top')\n",
        "ax.xaxis.tick_top()\n",
        "ax.set_ylabel('Wavelength, [m]')"
      ],
      "execution_count": null,
      "outputs": []
    }
  ]
}