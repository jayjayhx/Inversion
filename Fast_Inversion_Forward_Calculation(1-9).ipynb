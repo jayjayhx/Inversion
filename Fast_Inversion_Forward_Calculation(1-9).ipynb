{
  "nbformat": 4,
  "nbformat_minor": 0,
  "metadata": {
    "colab": {
      "name": "Fast-Inversion-Forward-Calculation.ipynb",
      "private_outputs": true,
      "provenance": [],
      "collapsed_sections": [],
      "authorship_tag": "ABX9TyOVLvGFeEHtAEHwszNJDnna",
      "include_colab_link": true
    },
    "kernelspec": {
      "name": "python3",
      "display_name": "Python 3"
    },
    "language_info": {
      "name": "python"
    },
    "accelerator": "GPU"
  },
  "cells": [
    {
      "cell_type": "markdown",
      "metadata": {
        "id": "view-in-github",
        "colab_type": "text"
      },
      "source": [
        "<a href=\"https://colab.research.google.com/github/tranquockinh/Fast-Inversion/blob/main/Fast_Inversion_Forward_Calculation(1-9).ipynb\" target=\"_parent\"><img src=\"https://colab.research.google.com/assets/colab-badge.svg\" alt=\"Open In Colab\"/></a>"
      ]
    },
    {
      "cell_type": "markdown",
      "metadata": {
        "id": "dBujwumV2f5Q"
      },
      "source": [
        "## **Earth model assumption: ground truth generation**\n",
        "### (1) Creating a shear wave velocity profile\n",
        "### (2) Computing the particle displacement of vertucal component\n",
        "\n"
      ]
    },
    {
      "cell_type": "code",
      "metadata": {
        "id": "KJio732u2kg4"
      },
      "source": [
        "# Earth proflie\n",
        "import numpy as np\n",
        "import sympy as sp\n",
        "import matplotlib.pyplot as plt\n",
        "LayerData = np.array([[100,0],\n",
        "                      [200,2],\n",
        "                      [250,5],\n",
        "                      [400,10],\n",
        "                      [400,np.inf]])\n",
        "z = LayerData[:,1]\n",
        "num_layer = len(z)-1\n",
        "Vs = LayerData[:,0]\n",
        "Layer_Vs = Vs[0:-1]\n",
        "fig,ax = plt.subplots(1,2,figsize=(10,5),dpi=100)\n",
        "#fig,ax = plt.subplots(figsize=(4,6),dpi=100)\n",
        "ax[0].step(LayerData[:,0],LayerData[:,1])\n",
        "ax[0].invert_yaxis()\n",
        "xlimit = [0,LayerData[-1,0]+50]\n",
        "#plt.xlim(xlimit[0],xlimit[1])\n",
        "for i in range(len(LayerData[:,0])-1):\n",
        "    ax[0].hlines(y=LayerData[i,1],xmin=xlimit[0],xmax=xlimit[1],linestyle='--',linewidth=0.5)\n",
        "ax[0].set_xlabel('Shear wave velocity, Vs [m/s]')\n",
        "ax[0].set_ylabel('Depth, z [m]')\n",
        "ax[0].xaxis.set_label_position('top')\n",
        "ax[0].xaxis.tick_top()\n",
        "mid_layer = LayerData[:-1,1]+0.5*(LayerData[1:,1]-LayerData[:-1,1])\n",
        "label = LayerData[:-1,0]\n",
        "for i in range(num_layer):\n",
        "  layer = ('Layer {}: Vs = {}').format(i+1,label[i])\n",
        "  ax[0].annotate(layer, (label[i],mid_layer[i]), textcoords='offset points', xytext=(10,0))\n",
        "halfspace_Vs = ('Layer {} Halfspace Vs = {}').format(num_layer,LayerData[-1,0],0)\n",
        "ax[0].annotate(halfspace_Vs,(LayerData[-3,0],LayerData[-2,1]),textcoords='offset points',horizontalalignment='center', xytext=(0,-20))\n",
        "ax[0].spines['bottom'].set_color('white')\n",
        "ax[0].spines['right'].set_color('white')\n",
        "# Wavelength data\n",
        "Lambda = np.zeros((25))\n",
        "DeltaLambda = 1\n",
        "for i in range(len(Lambda)):\n",
        "    Lambda[0] = 2 # m\n",
        "    if i > 0:\n",
        "        Lambda[i] = Lambda[i-1] + DeltaLambda\n",
        "  # Plot particle motion curve\n",
        "def Partical_displacement(WL,z,num_layer):\n",
        "    SF=1\n",
        "    cv = np.array([0.2507, -0.4341, -0.8474*2*np.pi, -0.3933*2*np.pi])\n",
        "    cv1 = cv[0] \n",
        "    cv2 = cv[1] \n",
        "    cv3 = cv[2] \n",
        "    cv4 = cv[3]\n",
        "    # Normalization\n",
        "    zn = z/WL\n",
        "    # compute amplitude of particle displacements\n",
        "    pmv = (cv1*np.exp(cv3*zn) + cv2*np.exp(cv4*zn))*SF\n",
        "    pmv_norm = pmv/pmv[0]\n",
        "    return pmv,pmv_norm,zn\n",
        "pmv,pmv_norm,zn = Partical_displacement(Lambda[10],z,num_layer)\n",
        "# plotting\n",
        "ax[1].plot(pmv_norm,zn,'-or', markerfacecolor='None')\n",
        "ax[1].xaxis.tick_top()\n",
        "ax[1].xaxis.set_label_position('top')\n",
        "ax[1].set_xlabel('Normalized vertical particle motion \\n at a wavelength, $wp/w_{p0}$ [mm]')\n",
        "ax[1].set_ylabel('Normalized depth, zn [m]')\n",
        "ax[1].vlines(x=0,ymin=zn[0],ymax=zn[-1],linestyles='--',linewidth=1)\n",
        "ax[1].legend(['PR=0.5'],loc='lower right')\n",
        "ax[1].invert_yaxis()\n",
        "for i in range(num_layer):\n",
        "  label = ('(Layer {}): {}').format(i+1,np.round(pmv_norm[i],4))\n",
        "  ax[1].annotate(label, (pmv_norm[i],zn[i]), textcoords='offset points', xytext=(20,0))\n",
        "ax[1].spines['bottom'].set_color('white')\n",
        "ax[1].spines['right'].set_color('white')"
      ],
      "execution_count": null,
      "outputs": []
    },
    {
      "cell_type": "code",
      "metadata": {
        "id": "aiajFe2-Zb9D"
      },
      "source": [
        "'''\n",
        "fig,ax = plt.subplots(figsize=(4,6),dpi=100)\n",
        "def plot_sublayers():\n",
        "  num_sublayer = np.linspace(LayerData[0,1],LayerData[-2,1],5*(num_layer-1))\n",
        "  num_sublayer = np.append(num_sublayer,np.inf)\n",
        "  sublayers = len(num_sublayer)\n",
        "  pmv,pmv_norm,zn = Partical_displacement(Lambda[10],num_sublayer,sublayers)\n",
        "  ax.plot(pmv_norm,zn,'-or', markerfacecolor='None')\n",
        "  ax.xaxis.tick_top()\n",
        "  ax.xaxis.set_label_position('top')\n",
        "  ax.set_xlabel('Normalized vertical particle motion \\n at a wavelength, $wp/w_{p0}$ [mm]')\n",
        "  ax.set_ylabel('Normalized depth, zn [m]')\n",
        "  ax.vlines(x=0,ymin=zn[0],ymax=zn[-1],linestyles='--',linewidth=1)\n",
        "  ax.legend(['PR=0.5'],loc='lower right')\n",
        "  ax.invert_yaxis()\n",
        "  ax.spines['bottom'].set_color('white')\n",
        "  ax.spines['right'].set_color('white')\n",
        "  for i in range(sublayers):\n",
        "    label = ('(Sub-Layer {}): {}').format(i+1,np.round(pmv_norm[i],4))\n",
        "    ax.annotate(label, (pmv_norm[i],zn[i]), textcoords='offset points', xytext=(20,0))\n",
        "  for i in range(len(LayerData[:,0])-1):\n",
        "    ax.hlines(y=LayerData[i,1]/Lambda[10],xmin=0,xmax=1,linestyle='--',linewidth=0.5)\n",
        "  return num_sublayer\n",
        "num_sublayer = plot_sublayers()\n",
        "'''"
      ],
      "execution_count": null,
      "outputs": []
    },
    {
      "cell_type": "markdown",
      "metadata": {
        "id": "Ti1ej0kXQK_q"
      },
      "source": [
        "## Look at the particle displacement curve"
      ]
    },
    {
      "cell_type": "markdown",
      "metadata": {
        "id": "EZfR91Oi_9oF"
      },
      "source": [
        "## Computing normaized weighting factor\n",
        "### Compute with each value of supposed wavelength "
      ]
    },
    {
      "cell_type": "code",
      "metadata": {
        "id": "dVM8BYIr3_1B"
      },
      "source": [
        "def Compute_Weights(WL,z):\n",
        "    num_layer = len(z)-1\n",
        "    Ai = np.zeros((num_layer,1),dtype='object')\n",
        "    wp = np.zeros((num_layer,1),dtype='float')\n",
        "    SF = 1\n",
        "    low_bound = z[:-1]\n",
        "    up_bound = z[1:]\n",
        "    h = sp.symbols('h')\n",
        "    cv = np.array([0.2507, -0.4341, -0.8474*2*np.pi, -0.3933*2*np.pi])\n",
        "    cv1 = cv[0] \n",
        "    cv2 = cv[1] \n",
        "    cv3 = cv[2] \n",
        "    cv4 = cv[3]\n",
        "    pmv_norm = (cv1*sp.exp(cv3/WL*h) + cv2*sp.exp(cv4/WL*h))*SF \n",
        "    for j in range(num_layer):\n",
        "        Ai[j,0] = sp.integrate(pmv_norm,(h,low_bound[j],up_bound[j]))\n",
        "        A = sp.integrate(pmv_norm,(h,low_bound[0],up_bound[-1])) \n",
        "        wp[j,0] = Ai[j] / A\n",
        "    return wp\n",
        "wp = np.zeros((len(Lambda)),dtype='object')\n",
        "for i in range(len(wp)):\n",
        "    wp[i] = np.zeros((len(wp)))\n",
        "    wp[i] = Compute_Weights(Lambda[i],z)\n",
        "    print(('WAVELENGTH {} PASSED').format(i+1))\n",
        "    ERROR = 1E-6\n",
        "    if (np.sum(wp[i]) - 1 > ERROR):\n",
        "        print('NOT PASSED')\n",
        "    else: continue"
      ],
      "execution_count": null,
      "outputs": []
    },
    {
      "cell_type": "code",
      "metadata": {
        "id": "OHy55VNS4SaX"
      },
      "source": [
        "# Distribution of weighting\n",
        "labels = ['Layer 1','Layer 2','Layer 3','Layer 4']\n",
        "fig,ax=plt.subplots(figsize=(4,6),dpi=100)\n",
        "plt.plot(wp[1],labels,'-o',markerfacecolor='None')\n",
        "plt.xlabel('Weighting average factor, $w_{p}$ \\n at a wavelength')\n",
        "plt.ylabel('Layers')\n",
        "ax.invert_yaxis()\n",
        "ax.xaxis.set_label_position('top')\n",
        "ax.xaxis.tick_top()\n",
        "for i in range(num_layer):\n",
        "      label = ('{}').format(np.round(wp[1][i],4))\n",
        "      ax.annotate(label, (wp[1][i],labels[i]), textcoords='offset points', xytext=(10,-10))\n",
        "ax.spines['bottom'].set_color('white')\n",
        "ax.spines['right'].set_color('white')"
      ],
      "execution_count": null,
      "outputs": []
    },
    {
      "cell_type": "code",
      "metadata": {
        "id": "jsgLVqVf4V2M"
      },
      "source": [
        "# Compute phase velocity\n",
        "def Phase_velocity(Layer_Vs,wp):\n",
        "    Vph = np.dot(0.93*Layer_Vs,wp)\n",
        "    return Vph\n",
        "Vph = np.zeros((len(Lambda)))\n",
        "for i in range(len(Lambda)):\n",
        "    Vph[i] = Phase_velocity(Layer_Vs,wp[i])\n",
        "print(Vph)\n",
        "fig,ax=plt.subplots(figsize=(4,6),dpi=100)\n",
        "ax.plot(Vph,Lambda,'-o',markerfacecolor='None')\n",
        "ax.invert_yaxis()\n",
        "ax.set_xlabel('Phase velocity, Vph [m/s]')\n",
        "ax.xaxis.set_label_position('top')\n",
        "ax.xaxis.tick_top()\n",
        "ax.set_ylabel('Wavelength, [m]')"
      ],
      "execution_count": null,
      "outputs": []
    },
    {
      "cell_type": "markdown",
      "metadata": {
        "id": "2xAyHvkDdLZg"
      },
      "source": [
        "# Inversion "
      ]
    },
    {
      "cell_type": "markdown",
      "metadata": {
        "id": "DgMtD-CDdRFn"
      },
      "source": [
        "## Compute weights"
      ]
    },
    {
      "cell_type": "code",
      "metadata": {
        "id": "NY18TfhBG_y5"
      },
      "source": [
        "def inversionData(Vph,Lambda):\n",
        "  Con_Depth = 0.35 * Lambda\n",
        "  Con_Vs = (1/0.93) * Vph\n",
        "  wp = np.zeros((len(Lambda)),dtype='object')\n",
        "  for i in range(len(wp)):\n",
        "      wp[i] = np.zeros((num_layer)) # ROOTS\n",
        "      wp[i] = Compute_Weights(Lambda[i],Con_Depth)\n",
        "      print(('WAVELENGTH {} PASSED').format(i+1))\n",
        "      ERROR = 1E-6\n",
        "      if (np.sum(wp[i]) - 1 > ERROR):\n",
        "          print('NOT PASSED')\n",
        "      else: continue\n",
        "  return wp,Con_Vs\n",
        "wp,Con_Vs = inversionData(Vph,Lambda)"
      ],
      "execution_count": null,
      "outputs": []
    },
    {
      "cell_type": "code",
      "metadata": {
        "id": "CP0VQ0vyMfJ0"
      },
      "source": [
        "fig,ax=plt.subplots(figsize=(4,6),dpi=100)\n",
        "Layer = np.zeros((len(wp[0])),dtype='object')\n",
        "for i in range(len(wp[0])):\n",
        "  Layer[i] = ('Layer {}').format(i+1)\n",
        "plt.plot(wp[1],Layer,'-o',markerfacecolor='None')\n",
        "ax.invert_yaxis()\n",
        "ax.xaxis.set_label_position('top')\n",
        "ax.xaxis.tick_top()\n"
      ],
      "execution_count": null,
      "outputs": []
    },
    {
      "cell_type": "markdown",
      "metadata": {
        "id": "dQs6vSl1dYdv"
      },
      "source": [
        "## Compute phase velocity"
      ]
    },
    {
      "cell_type": "code",
      "metadata": {
        "id": "HAti7J1TdYIn"
      },
      "source": [
        "# Compute phase velocity\n",
        "weighting_factor = np.zeros((len(Con_Vs)),dtype='object')\n",
        "Vs = np.zeros((len(Vph),1))\n",
        "disperse = np.zeros((len(Vph)))\n",
        "for i in range(len(Con_Vs)):\n",
        "  weighting_factor[i] = np.zeros((len(wp[i])))\n",
        "  if i == 0:\n",
        "    weighting_factor[i] = wp[i]\n",
        "\n",
        "  else: \n",
        "    weighting_factor[i] = wp[i]\n",
        "    weighting_factor[i][:i] = weighting_factor[i-1][:i]\n",
        "  # Vs i\n",
        "  Vs[i] = (1/0.93) * Vph[i]\n",
        "  Vs[i:] = Vs[i]\n",
        "  disperse[i] = np.dot(wp[i].flatten(),Vs[1:].flatten())\n",
        "  \n",
        "print(disperse)"
      ],
      "execution_count": null,
      "outputs": []
    },
    {
      "cell_type": "code",
      "metadata": {
        "id": "ZCh2u5HUdkB5"
      },
      "source": [
        ""
      ],
      "execution_count": null,
      "outputs": []
    }
  ]
}