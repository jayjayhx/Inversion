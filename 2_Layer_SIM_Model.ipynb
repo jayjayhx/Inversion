{
  "nbformat": 4,
  "nbformat_minor": 0,
  "metadata": {
    "colab": {
      "name": "2-Layer-SIM-Model.ipynb",
      "provenance": [],
      "authorship_tag": "ABX9TyNfRHJykbjw0gGSi45ivPCN",
      "include_colab_link": true
    },
    "kernelspec": {
      "name": "python3",
      "display_name": "Python 3"
    },
    "language_info": {
      "name": "python"
    }
  },
  "cells": [
    {
      "cell_type": "markdown",
      "metadata": {
        "id": "view-in-github",
        "colab_type": "text"
      },
      "source": [
        "<a href=\"https://colab.research.google.com/github/tranquockinh/Fast-Inversion/blob/main/2_Layer_SIM_Model.ipynb\" target=\"_parent\"><img src=\"https://colab.research.google.com/assets/colab-badge.svg\" alt=\"Open In Colab\"/></a>"
      ]
    },
    {
      "cell_type": "code",
      "metadata": {
        "colab": {
          "base_uri": "https://localhost:8080/",
          "height": 1000
        },
        "id": "IFddLF9UBs6X",
        "outputId": "ecbee7f2-3d15-4541-a648-b6ddf7b1a513"
      },
      "source": [
        "import numpy as np\n",
        "import sympy as sp\n",
        "import matplotlib.pyplot as plt\n",
        "# DISPERSION\n",
        "Layer_Data = np.array([[100,5],\n",
        "                       [60,10],\n",
        "                       [200,np.inf]])\n",
        "# Arrange vectors of shear wave velocity and depth\n",
        "Depth = np.append(0,Layer_Data[:,1])\n",
        "Vs = Layer_Data[:,0]\n",
        "# Poisson's ratio\n",
        "PR = 0.3\n",
        "# Initialize wavelength\n",
        "DC_points = 15\n",
        "Lambda = np.zeros((DC_points))\n",
        "Delta_Lambda = 2\n",
        "for i in range(DC_points):\n",
        "    if i == 0:\n",
        "        Lambda[0] = 2\n",
        "    else:\n",
        "        Lambda[i] = Lambda[i-1] + Delta_Lambda\n",
        "# Function to compute weights\n",
        "def weighting(D,WL):\n",
        "    z = sp.symbols('z')\n",
        "    material_coefficient = 1\n",
        "    limit_low = D[:-1]\n",
        "    limit_up = D[1:]\n",
        "    cv = np.array([0.2507, -0.4341, -0.8474*2*np.pi, -0.3933*2*np.pi])\n",
        "    cv1 = cv[0] \n",
        "    cv2 = cv[1] \n",
        "    cv3 = cv[2] \n",
        "    cv4 = cv[3]\n",
        "    # Particle displacement function\n",
        "    PDF = (cv1*sp.exp(cv3/WL*z) + cv2*sp.exp(cv4/WL*z))*material_coefficient\n",
        "    # Loop to compute wave a the wavelength given\n",
        "    num_layer = len(Depth) - 1\n",
        "    Area_i = np.zeros((num_layer),dtype='object')\n",
        "    # Total area\n",
        "    Area = sp.integrate(PDF,(z,0,np.inf))\n",
        "    for j in range(num_layer):\n",
        "        Area_i[j] = sp.integrate(PDF,(z,limit_low[j],limit_up[j]))\n",
        "    weights = Area_i / Area\n",
        "    return weights,num_layer\n",
        "# Computing phase velocity by weighted average at each wavelength\n",
        "beta = (0.87+1.12*PR)/(1+PR)\n",
        "Vph = np.zeros((DC_points))\n",
        "for i in range(DC_points):\n",
        "    wp,num_layer = weighting(Depth,Lambda[i])\n",
        "    Vph[i] = np.dot(beta*Vs,wp.flatten())\n",
        "    print(('WAVELENGTH{}---WEIGHTING = {}---PHASE VELOCITY = {}').format(i+1,wp,Vph[i]))\n",
        "fig,ax = plt.subplots(1,2,figsize=(8,8),dpi=100)\n",
        "ax[0].plot(Vph,Lambda,'-bo',markerfacecolor='None')\n",
        "ax[0].invert_yaxis()\n",
        "ax[0].set_xlabel('Phase velocity, Vph [m/s]')\n",
        "ax[0].set_ylabel('Wavelength, [m]')\n",
        "ax[0].xaxis.set_label_position('top')\n",
        "ax[0].xaxis.tick_top()\n",
        "ax[0].set_xlim(0,Vs[-1])\n",
        "ax[0].spines['bottom'].set_color('white')\n",
        "ax[0].spines['right'].set_color('white')\n",
        "\n",
        "Alpha = 0.35\n",
        "Step_Z = 0\n",
        "Step_Vph = []\n",
        "Vs = np.zeros((DC_points))\n",
        "# Suppose I have only one layer\n",
        "# Adding layers\n",
        "for i in range(DC_points):\n",
        "    Step_Z = np.append(Step_Z,Alpha*Lambda[i])\n",
        "    Depth = np.append(Step_Z,np.inf)\n",
        "    weighting_factor,num_layer = weighting(Depth,Lambda[i])\n",
        "    Step_Vph = np.append(Vph[:i+1],Vph[i])\n",
        "    Vs[i] = np.dot((1/beta)*Step_Vph,weighting_factor)\n",
        "    print(('LAYER{}---PHASE VELOCITY = {}---SHEAR WAVE VELOCITY = {}').format(i+1,Vph[i],Vs[i]))\n",
        "    ax[1].step(Vs[:i],Step_Z[:i],'r',markerfacecolor='None')\n",
        "    ax[1].invert_yaxis()\n",
        "    ax[1].set_xlabel('shear wave velocity, Vs [m/s]')\n",
        "    ax[1].set_ylabel('Wavelength, [m]')\n",
        "    ax[1].xaxis.set_label_position('top')\n",
        "    ax[1].xaxis.tick_top()\n",
        "    ax[1].set_xlim(0,Vs[-1])\n",
        "    ax[1].spines['bottom'].set_color('white')\n",
        "    ax[1].spines['right'].set_color('white')\n"
      ],
      "execution_count": null,
      "outputs": [
        {
          "output_type": "stream",
          "name": "stdout",
          "text": [
            "WAVELENGTH1---WEIGHTING = [0.997166170186159 0.00282794922881747 5.88058502348572e-6]---PHASE VELOCITY = 92.66483763673514\n",
            "WAVELENGTH2---WEIGHTING = [0.938242721859820 0.0589234483263389 0.00283382981384096]---PHASE VELOCITY = 90.84560979098971\n",
            "WAVELENGTH3---WEIGHTING = [0.830086182527147 0.147741429562731 0.0221723879101217]---PHASE VELOCITY = 89.34380263065731\n",
            "WAVELENGTH4---WEIGHTING = [0.721561359813193 0.216681362046628 0.0617572781401798]---PHASE VELOCITY = 90.45786064505873\n",
            "WAVELENGTH5---WEIGHTING = [0.628455408329312 0.257904946498704 0.113639645171984]---PHASE VELOCITY = 93.74123583741829\n",
            "WAVELENGTH6---WEIGHTING = [0.551923750365728 0.278162432161419 0.169913817472852]---PHASE VELOCITY = 98.21003896904548\n",
            "WAVELENGTH7---WEIGHTING = [0.489462008178166 0.284859462404137 0.225678529417697]---PHASE VELOCITY = 103.13477706261432\n",
            "WAVELENGTH8---WEIGHTING = [0.438210137377494 0.283351222435699 0.278438640186807]---PHASE VELOCITY = 108.0852592586391\n",
            "WAVELENGTH9---WEIGHTING = [0.395747814628399 0.277103569507458 0.327148615864143]---PHASE VELOCITY = 112.83588221551985\n",
            "WAVELENGTH10---WEIGHTING = [0.360184452031213 0.268270956298100 0.371544591670688]---PHASE VELOCITY = 117.28222063358815\n",
            "WAVELENGTH11---WEIGHTING = [0.330077908645279 0.258169121835953 0.411752969518768]---PHASE VELOCITY = 121.38717668199777\n",
            "WAVELENGTH12---WEIGHTING = [0.304331680280742 0.247592070084987 0.448076249634272]---PHASE VELOCITY = 125.1493494192257\n",
            "WAVELENGTH13---WEIGHTING = [0.282107671476441 0.237011916778898 0.480880411744661]---PHASE VELOCITY = 128.5851713776862\n",
            "WAVELENGTH14---WEIGHTING = [0.262759596080040 0.226702412098126 0.510537991821834]---PHASE VELOCITY = 131.71904419546118\n",
            "WAVELENGTH15---WEIGHTING = [0.245783938947826 0.216815016752268 0.537401044299907]---PHASE VELOCITY = 134.57800733418412\n",
            "LAYER1---PHASE VELOCITY = 92.66483763673514---SHEAR WAVE VELOCITY = 99.88747008934968\n"
          ]
        },
        {
          "output_type": "stream",
          "name": "stderr",
          "text": [
            "/usr/local/lib/python3.7/dist-packages/ipykernel_launcher.py:81: UserWarning: Attempting to set identical left == right == 0 results in singular transformations; automatically expanding.\n"
          ]
        },
        {
          "output_type": "stream",
          "name": "stdout",
          "text": [
            "LAYER2---PHASE VELOCITY = 90.84560979098971---SHEAR WAVE VELOCITY = 98.43177455975461\n"
          ]
        },
        {
          "output_type": "stream",
          "name": "stderr",
          "text": [
            "/usr/local/lib/python3.7/dist-packages/ipykernel_launcher.py:81: UserWarning: Attempting to set identical left == right == 0 results in singular transformations; automatically expanding.\n"
          ]
        },
        {
          "output_type": "stream",
          "name": "stdout",
          "text": [
            "LAYER3---PHASE VELOCITY = 89.34380263065731---SHEAR WAVE VELOCITY = 97.19383913438313\n"
          ]
        },
        {
          "output_type": "stream",
          "name": "stderr",
          "text": [
            "/usr/local/lib/python3.7/dist-packages/ipykernel_launcher.py:81: UserWarning: Attempting to set identical left == right == 0 results in singular transformations; automatically expanding.\n"
          ]
        },
        {
          "output_type": "stream",
          "name": "stdout",
          "text": [
            "LAYER4---PHASE VELOCITY = 90.45786064505873---SHEAR WAVE VELOCITY = 97.72717952314855\n"
          ]
        },
        {
          "output_type": "stream",
          "name": "stderr",
          "text": [
            "/usr/local/lib/python3.7/dist-packages/ipykernel_launcher.py:81: UserWarning: Attempting to set identical left == right == 0 results in singular transformations; automatically expanding.\n"
          ]
        },
        {
          "output_type": "stream",
          "name": "stdout",
          "text": [
            "LAYER5---PHASE VELOCITY = 93.74123583741829---SHEAR WAVE VELOCITY = 99.80650172775657\n"
          ]
        },
        {
          "output_type": "stream",
          "name": "stderr",
          "text": [
            "/usr/local/lib/python3.7/dist-packages/ipykernel_launcher.py:81: UserWarning: Attempting to set identical left == right == 0 results in singular transformations; automatically expanding.\n"
          ]
        },
        {
          "output_type": "stream",
          "name": "stdout",
          "text": [
            "LAYER6---PHASE VELOCITY = 98.21003896904548---SHEAR WAVE VELOCITY = 102.81658104359495\n"
          ]
        },
        {
          "output_type": "stream",
          "name": "stderr",
          "text": [
            "/usr/local/lib/python3.7/dist-packages/ipykernel_launcher.py:81: UserWarning: Attempting to set identical left == right == 0 results in singular transformations; automatically expanding.\n"
          ]
        },
        {
          "output_type": "stream",
          "name": "stdout",
          "text": [
            "LAYER7---PHASE VELOCITY = 103.13477706261432---SHEAR WAVE VELOCITY = 106.27233414528322\n"
          ]
        },
        {
          "output_type": "stream",
          "name": "stderr",
          "text": [
            "/usr/local/lib/python3.7/dist-packages/ipykernel_launcher.py:81: UserWarning: Attempting to set identical left == right == 0 results in singular transformations; automatically expanding.\n"
          ]
        },
        {
          "output_type": "stream",
          "name": "stdout",
          "text": [
            "LAYER8---PHASE VELOCITY = 108.0852592586391---SHEAR WAVE VELOCITY = 109.86801854046405\n"
          ]
        },
        {
          "output_type": "stream",
          "name": "stderr",
          "text": [
            "/usr/local/lib/python3.7/dist-packages/ipykernel_launcher.py:81: UserWarning: Attempting to set identical left == right == 0 results in singular transformations; automatically expanding.\n"
          ]
        },
        {
          "output_type": "stream",
          "name": "stdout",
          "text": [
            "LAYER9---PHASE VELOCITY = 112.83588221551985---SHEAR WAVE VELOCITY = 113.42821303319002\n"
          ]
        },
        {
          "output_type": "stream",
          "name": "stderr",
          "text": [
            "/usr/local/lib/python3.7/dist-packages/ipykernel_launcher.py:81: UserWarning: Attempting to set identical left == right == 0 results in singular transformations; automatically expanding.\n"
          ]
        },
        {
          "output_type": "stream",
          "name": "stdout",
          "text": [
            "LAYER10---PHASE VELOCITY = 117.28222063358815---SHEAR WAVE VELOCITY = 116.85909226339098\n"
          ]
        },
        {
          "output_type": "stream",
          "name": "stderr",
          "text": [
            "/usr/local/lib/python3.7/dist-packages/ipykernel_launcher.py:81: UserWarning: Attempting to set identical left == right == 0 results in singular transformations; automatically expanding.\n"
          ]
        },
        {
          "output_type": "stream",
          "name": "stdout",
          "text": [
            "LAYER11---PHASE VELOCITY = 121.38717668199777---SHEAR WAVE VELOCITY = 120.11510860217652\n"
          ]
        },
        {
          "output_type": "stream",
          "name": "stderr",
          "text": [
            "/usr/local/lib/python3.7/dist-packages/ipykernel_launcher.py:81: UserWarning: Attempting to set identical left == right == 0 results in singular transformations; automatically expanding.\n"
          ]
        },
        {
          "output_type": "stream",
          "name": "stdout",
          "text": [
            "LAYER12---PHASE VELOCITY = 125.1493494192257---SHEAR WAVE VELOCITY = 123.17844194552052\n"
          ]
        },
        {
          "output_type": "stream",
          "name": "stderr",
          "text": [
            "/usr/local/lib/python3.7/dist-packages/ipykernel_launcher.py:81: UserWarning: Attempting to set identical left == right == 0 results in singular transformations; automatically expanding.\n"
          ]
        },
        {
          "output_type": "stream",
          "name": "stdout",
          "text": [
            "LAYER13---PHASE VELOCITY = 128.5851713776862---SHEAR WAVE VELOCITY = 126.04679081603442\n"
          ]
        },
        {
          "output_type": "stream",
          "name": "stderr",
          "text": [
            "/usr/local/lib/python3.7/dist-packages/ipykernel_launcher.py:81: UserWarning: Attempting to set identical left == right == 0 results in singular transformations; automatically expanding.\n"
          ]
        },
        {
          "output_type": "stream",
          "name": "stdout",
          "text": [
            "LAYER14---PHASE VELOCITY = 131.71904419546118---SHEAR WAVE VELOCITY = 128.72622806933276\n"
          ]
        },
        {
          "output_type": "stream",
          "name": "stderr",
          "text": [
            "/usr/local/lib/python3.7/dist-packages/ipykernel_launcher.py:81: UserWarning: Attempting to set identical left == right == 0 results in singular transformations; automatically expanding.\n"
          ]
        },
        {
          "output_type": "stream",
          "name": "stdout",
          "text": [
            "LAYER15---PHASE VELOCITY = 134.57800733418412---SHEAR WAVE VELOCITY = 131.22705406307836\n"
          ]
        },
        {
          "output_type": "display_data",
          "data": {
            "image/png": "[encoded data removed]",
            "text/plain": [
              "<Figure size 800x800 with 2 Axes>"
            ]
          },
          "metadata": {
            "needs_background": "light"
          }
        }
      ]
    }
  ]
}